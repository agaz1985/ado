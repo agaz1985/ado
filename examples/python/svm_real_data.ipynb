{
 "cells": [
  {
   "cell_type": "markdown",
   "id": "essential-advocate",
   "metadata": {},
   "source": [
    "# SVM fitting on real data"
   ]
  },
  {
   "cell_type": "markdown",
   "id": "registered-prize",
   "metadata": {},
   "source": [
    "### Imports and set seed for reproducibility"
   ]
  },
  {
   "cell_type": "code",
   "execution_count": 1,
   "id": "beautiful-pathology",
   "metadata": {},
   "outputs": [],
   "source": [
    "import random\n",
    "import numpy as np\n",
    "\n",
    "# Set the random seed for reproducibility.\n",
    "seed = 16\n",
    "random.seed(seed)\n",
    "np.random.seed(seed)"
   ]
  },
  {
   "cell_type": "code",
   "execution_count": 2,
   "id": "apparent-charity",
   "metadata": {},
   "outputs": [],
   "source": [
    "import matplotlib.pyplot as plt\n",
    "import pandas as pd\n",
    "import time\n",
    "\n",
    "# Import SVM from the ado library.\n",
    "from ado import SVM"
   ]
  },
  {
   "cell_type": "markdown",
   "id": "undefined-deployment",
   "metadata": {},
   "source": [
    "### Load the occupancy training and test data"
   ]
  },
  {
   "cell_type": "code",
   "execution_count": 3,
   "id": "caring-narrow",
   "metadata": {},
   "outputs": [
    {
     "name": "stdout",
     "output_type": "stream",
     "text": [
      "Number of training samples: 8142\n",
      "Number of test samples: 9751\n"
     ]
    }
   ],
   "source": [
    "training_data = pd.read_csv('../data/occupancy/datatraining.csv')\n",
    "# Shuffle the training data.\n",
    "training_data.sample(frac=1)\n",
    "\n",
    "x_train = training_data.iloc[:,:5].to_numpy()\n",
    "y_train = training_data.iloc[:,5].to_numpy()\n",
    "\n",
    "test_data = pd.read_csv('../data/occupancy/datatest2.csv')\n",
    "# Shuffle the training data.\n",
    "test_data.sample(frac=1)\n",
    "\n",
    "x_test = test_data.iloc[:,:5].to_numpy()\n",
    "y_test= test_data.iloc[:,5].to_numpy()\n",
    "\n",
    "print(f\"Number of training samples: {len(x_train)}\")\n",
    "print(f\"Number of test samples: {len(x_test)}\")"
   ]
  },
  {
   "cell_type": "markdown",
   "id": "neither-sweden",
   "metadata": {},
   "source": [
    "### Normalize the data to 0-1 range and set labels to -1,+1"
   ]
  },
  {
   "cell_type": "code",
   "execution_count": 4,
   "id": "digital-nature",
   "metadata": {},
   "outputs": [],
   "source": [
    "def normalize(x:np.array):\n",
    "    return (x.astype(float) - np.min(x)) / (np.max(x) - np.min(x))\n",
    "\n",
    "x_train = normalize(x_train)\n",
    "y_train[y_train == 0] = -1\n",
    "\n",
    "x_test = normalize(x_test)\n",
    "y_test[y_test == 0] = -1"
   ]
  },
  {
   "cell_type": "markdown",
   "id": "twenty-professor",
   "metadata": {},
   "source": [
    "### Project the 5 dimensional data into 2 dimensions by using PCA"
   ]
  },
  {
   "cell_type": "code",
   "execution_count": 5,
   "id": "eligible-broadcasting",
   "metadata": {},
   "outputs": [
    {
     "data": {
      "image/png": "[encoded data removed]",
      "text/plain": [
       "<Figure size 720x576 with 1 Axes>"
      ]
     },
     "metadata": {
      "needs_background": "light"
     },
     "output_type": "display_data"
    }
   ],
   "source": [
    "from sklearn.decomposition import PCA\n",
    "import matplotlib.pyplot as plt\n",
    "\n",
    "x_train_2_components = PCA(n_components=2).fit_transform(x_train)\n",
    "\n",
    "fig, ax = plt.subplots(figsize=(10,8))\n",
    "for y_value in np.unique(y_train):\n",
    "    ix = np.where(y_train == y_value)\n",
    "    ax.scatter(x_train_2_components[ix,0], x_train_2_components[ix,1], label = y_value)\n",
    "ax.legend()\n",
    "ax.grid()\n",
    "plt.show()"
   ]
  },
  {
   "cell_type": "markdown",
   "id": "prescription-barrel",
   "metadata": {},
   "source": [
    "### Fit the SVM on the training data"
   ]
  },
  {
   "cell_type": "code",
   "execution_count": 6,
   "id": "statistical-digit",
   "metadata": {},
   "outputs": [
    {
     "name": "stdout",
     "output_type": "stream",
     "text": [
      "Elapsed time: 17.88 s.\n"
     ]
    }
   ],
   "source": [
    "model = SVM(C=1.0, tol=1e-4, kernel='linear', max_steps=1, seed=seed, sigma=5)\n",
    "\n",
    "start = time.time()\n",
    "\n",
    "# Fit the model.\n",
    "model.fit(x_train, y_train)\n",
    "\n",
    "end = time.time()\n",
    "print(f\"Elapsed time: {round(end - start,2)} s.\")\n"
   ]
  },
  {
   "cell_type": "markdown",
   "id": "coral-broad",
   "metadata": {},
   "source": [
    "### Run inference and compute accuracy"
   ]
  },
  {
   "cell_type": "code",
   "execution_count": 7,
   "id": "damaged-tuesday",
   "metadata": {},
   "outputs": [
    {
     "name": "stdout",
     "output_type": "stream",
     "text": [
      "Accuracy: 98.17 %\n"
     ]
    }
   ],
   "source": [
    "y_pred = model.predict(x_test)\n",
    "\n",
    "print(f\"Accuracy: {np.round(np.sum(y_pred == y_test)/len(x_test)*100,2)} %\")"
   ]
  }
 ],
 "metadata": {
  "kernelspec": {
   "display_name": "Python 3",
   "language": "python",
   "name": "python3"
  },
  "language_info": {
   "codemirror_mode": {
    "name": "ipython",
    "version": 3
   },
   "file_extension": ".py",
   "mimetype": "text/x-python",
   "name": "python",
   "nbconvert_exporter": "python",
   "pygments_lexer": "ipython3",
   "version": "3.8.8"
  }
 },
 "nbformat": 4,
 "nbformat_minor": 5
}
