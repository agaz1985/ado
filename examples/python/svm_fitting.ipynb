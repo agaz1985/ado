{
 "cells": [
  {
   "cell_type": "markdown",
   "metadata": {},
   "source": [
    "# SVM Fitting Example"
   ]
  },
  {
   "cell_type": "markdown",
   "metadata": {},
   "source": [
    "### Imports and set seed for reproducibility"
   ]
  },
  {
   "cell_type": "code",
   "execution_count": 1,
   "metadata": {},
   "outputs": [],
   "source": [
    "import random\n",
    "import numpy as np\n",
    "\n",
    "# Set the random seed for reproducibility.\n",
    "seed = 16\n",
    "random.seed(seed)\n",
    "np.random.seed(seed)"
   ]
  },
  {
   "cell_type": "code",
   "execution_count": 2,
   "metadata": {},
   "outputs": [],
   "source": [
    "import matplotlib.pyplot as plt\n",
    "from ado import SVM\n",
    "from sklearn.datasets import make_blobs"
   ]
  },
  {
   "cell_type": "markdown",
   "metadata": {},
   "source": [
    "### Generate synthetic data"
   ]
  },
  {
   "cell_type": "code",
   "execution_count": 3,
   "metadata": {},
   "outputs": [],
   "source": [
    "# Create a synthetic dataset made by two clusters of 40 data points in total,\n",
    "# with 20 data points having label 1 and 20 data points having label -1.\n",
    "\n",
    "n_samples = 40\n",
    "X, y = make_blobs(n_samples=n_samples, centers=2,\n",
    "                  random_state=seed, cluster_std=2.0)\n",
    "y[y == 0] = -1"
   ]
  },
  {
   "cell_type": "markdown",
   "metadata": {},
   "source": [
    "### Fit the model on the synthetic data by using different kernels"
   ]
  },
  {
   "cell_type": "code",
   "execution_count": 5,
   "metadata": {},
   "outputs": [
    {
     "name": "stdout",
     "output_type": "stream",
     "text": [
      "<ado.SVM object at 0x7fbd2cd3a8b0>\n"
     ]
    },
    {
     "ename": "AttributeError",
     "evalue": "'ado.SVM' object has no attribute 'prob'",
     "output_type": "error",
     "traceback": [
      "\u001b[0;31m---------------------------------------------------------------------------\u001b[0m",
      "\u001b[0;31mAttributeError\u001b[0m                            Traceback (most recent call last)",
      "\u001b[0;32m<ipython-input-5-aa3179041947>\u001b[0m in \u001b[0;36m<module>\u001b[0;34m\u001b[0m\n\u001b[1;32m     21\u001b[0m     \u001b[0;31m# Run inference on the grid.\u001b[0m\u001b[0;34m\u001b[0m\u001b[0;34m\u001b[0m\u001b[0;34m\u001b[0m\u001b[0m\n\u001b[1;32m     22\u001b[0m     \u001b[0mprint\u001b[0m\u001b[0;34m(\u001b[0m\u001b[0mopt\u001b[0m\u001b[0;34m)\u001b[0m\u001b[0;34m\u001b[0m\u001b[0;34m\u001b[0m\u001b[0m\n\u001b[0;32m---> 23\u001b[0;31m     \u001b[0mM\u001b[0m \u001b[0;34m=\u001b[0m \u001b[0mopt\u001b[0m\u001b[0;34m.\u001b[0m\u001b[0mprob\u001b[0m\u001b[0;34m(\u001b[0m\u001b[0mK\u001b[0m\u001b[0;34m)\u001b[0m\u001b[0;34m.\u001b[0m\u001b[0mreshape\u001b[0m\u001b[0;34m(\u001b[0m\u001b[0;34m(\u001b[0m\u001b[0mlen\u001b[0m\u001b[0;34m(\u001b[0m\u001b[0mk\u001b[0m\u001b[0;34m)\u001b[0m\u001b[0;34m,\u001b[0m \u001b[0mlen\u001b[0m\u001b[0;34m(\u001b[0m\u001b[0mk\u001b[0m\u001b[0;34m)\u001b[0m\u001b[0;34m)\u001b[0m\u001b[0;34m)\u001b[0m\u001b[0;34m\u001b[0m\u001b[0;34m\u001b[0m\u001b[0m\n\u001b[0m\u001b[1;32m     24\u001b[0m \u001b[0;34m\u001b[0m\u001b[0m\n\u001b[1;32m     25\u001b[0m     plt.imshow(M, extent=[np.min(X) - margin, np.max(X) + margin, np.min(X) - margin, np.max(X) + margin],\n",
      "\u001b[0;31mAttributeError\u001b[0m: 'ado.SVM' object has no attribute 'prob'"
     ]
    },
    {
     "data": {
      "image/png": "[encoded data removed]",
      "text/plain": [
       "<Figure size 1080x720 with 1 Axes>"
      ]
     },
     "metadata": {
      "needs_background": "light"
     },
     "output_type": "display_data"
    }
   ],
   "source": [
    "# Define the two types of kernel: linear and radial basis function.\n",
    "kernel_list = [\"linear\", \"rbf\"]\n",
    "\n",
    "plt.figure(figsize=(15,10))\n",
    "\n",
    "for idx, k_type in enumerate(kernel_list):\n",
    "    plt.subplot(1, 2, idx + 1)\n",
    "    plt.title(str(k_type))\n",
    "\n",
    "    # Fit the SVM on the synthetic data.\n",
    "    opt = SVM(C=1.0, tol=1e-4, kernel=k_type, max_steps=1000, seed=seed, sigma=5)\n",
    "    opt.fit(X, y)\n",
    "\n",
    "    # Create a a grid of data points on which running inference in order to obtain\n",
    "    # a dense decision plane.\n",
    "    margin = 2\n",
    "    k = np.linspace(np.min(X) - margin, np.max(X) + margin, num=n_samples)\n",
    "    xx, yy = np.meshgrid(k, k)\n",
    "    K = np.stack([xx.flatten(), yy.flatten()], axis=1)\n",
    "\n",
    "    # Run inference on the grid.\n",
    "    M = opt.prob(K).reshape((len(k), len(k)))\n",
    "\n",
    "    plt.imshow(M, extent=[np.min(X) - margin, np.max(X) + margin, np.min(X) - margin, np.max(X) + margin],\n",
    "               origin='lower',\n",
    "               cmap='inferno')\n",
    "    plt.colorbar(fraction=0.046, pad=0.04)\n",
    "    plt.scatter(X[:, 0], X[:, 1], c=y, s=10, cmap='gist_yarg')\n",
    "\n",
    "\n",
    "plt.show()"
   ]
  }
 ],
 "metadata": {
  "kernelspec": {
   "display_name": "Python 3",
   "language": "python",
   "name": "python3"
  },
  "language_info": {
   "codemirror_mode": {
    "name": "ipython",
    "version": 3
   },
   "file_extension": ".py",
   "mimetype": "text/x-python",
   "name": "python",
   "nbconvert_exporter": "python",
   "pygments_lexer": "ipython3",
   "version": "3.8.5"
  }
 },
 "nbformat": 4,
 "nbformat_minor": 5
}
